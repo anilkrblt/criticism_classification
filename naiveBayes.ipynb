{
 "cells": [
  {
   "cell_type": "code",
   "execution_count": 31,
   "id": "b16fed57-c19a-4318-a9fe-15ba38e400bf",
   "metadata": {},
   "outputs": [
    {
     "name": "stdout",
     "output_type": "stream",
     "text": [
      "Bag-of-Words Naive Bayes Accuracy: 0.88\n",
      "Bag-of-Words Classification Report:\n",
      "              precision    recall  f1-score   support\n",
      "\n",
      "           0       0.87      0.90      0.88      4961\n",
      "           1       0.90      0.87      0.88      5039\n",
      "\n",
      "    accuracy                           0.88     10000\n",
      "   macro avg       0.88      0.88      0.88     10000\n",
      "weighted avg       0.88      0.88      0.88     10000\n",
      "\n",
      "TF-IDF Naive Bayes Accuracy: 0.89\n",
      "TF-IDF Classification Report:\n",
      "              precision    recall  f1-score   support\n",
      "\n",
      "           0       0.87      0.91      0.89      4961\n",
      "           1       0.90      0.87      0.89      5039\n",
      "\n",
      "    accuracy                           0.89     10000\n",
      "   macro avg       0.89      0.89      0.89     10000\n",
      "weighted avg       0.89      0.89      0.89     10000\n",
      "\n"
     ]
    }
   ],
   "source": [
    "from sklearn.feature_extraction.text import CountVectorizer, TfidfVectorizer\n",
    "from sklearn.naive_bayes import MultinomialNB\n",
    "from sklearn.model_selection import train_test_split\n",
    "from sklearn.metrics import classification_report, accuracy_score\n",
    "from backend.preprocessing import preprocess_text\n",
    "import pandas as pd\n",
    "\n",
    "# Veri setini yükle\n",
    "dataset = pd.read_csv('data.csv', delimiter=',', header=0, names=['review','sentiment'])\n",
    "\n",
    "# Metin ön işleme\n",
    "dataset['cleaned_review'] = dataset['review'].apply(preprocess_text)\n",
    "\n",
    "# Etiketleri sayısal forma dönüştürme\n",
    "dataset['label'] = dataset['sentiment'].map({'positive':1, 'negative':0})\n",
    "\n",
    "# Eğitim/Test ayrımı\n",
    "X = dataset['cleaned_review'].values\n",
    "y = dataset['label'].values\n",
    "\n",
    "X_train, X_test, y_train, y_test = train_test_split(X, y, test_size=0.2, random_state=42)\n",
    "\n",
    "\n",
    "# Bag-of-Words (BoW) ile temsil\n",
    "bow_vectorizer = CountVectorizer(ngram_range=(1, 2))  # Unigram ve Bigram\n",
    "X_train_bow = bow_vectorizer.fit_transform(X_train)\n",
    "X_test_bow = bow_vectorizer.transform(X_test)\n",
    "\n",
    "# TF-IDF ile temsil\n",
    "tfidf_vectorizer = TfidfVectorizer(ngram_range=(1, 2))  # Unigram ve Bigram\n",
    "X_train_tfidf = tfidf_vectorizer.fit_transform(X_train)\n",
    "X_test_tfidf = tfidf_vectorizer.transform(X_test)\n",
    "\n",
    "# Naive Bayes Modeli (Bag-of-Words ile)\n",
    "nb_model_bow = MultinomialNB()\n",
    "nb_model_bow.fit(X_train_bow, y_train)\n",
    "y_pred_bow = nb_model_bow.predict(X_test_bow)\n",
    "accuracy_bow = accuracy_score(y_test, y_pred_bow)\n",
    "\n",
    "# Naive Bayes Modeli (TF-IDF ile)\n",
    "nb_model_tfidf = MultinomialNB()\n",
    "nb_model_tfidf.fit(X_train_tfidf, y_train)\n",
    "y_pred_tfidf = nb_model_tfidf.predict(X_test_tfidf)\n",
    "accuracy_tfidf = accuracy_score(y_test, y_pred_tfidf)\n",
    "\n",
    "# Sonuçları görüntüleme\n",
    "bow_report = classification_report(y_test, y_pred_bow)\n",
    "tfidf_report = classification_report(y_test, y_pred_tfidf)\n",
    "\n",
    "# Raporları ve doğrulukları yazdır\n",
    "print(f\"Bag-of-Words Naive Bayes Accuracy: {accuracy_bow:.2f}\")\n",
    "print(\"Bag-of-Words Classification Report:\")\n",
    "print(bow_report)\n",
    "\n",
    "print(f\"TF-IDF Naive Bayes Accuracy: {accuracy_tfidf:.2f}\")\n",
    "print(\"TF-IDF Classification Report:\")\n",
    "print(tfidf_report)\n"
   ]
  },
  {
   "cell_type": "code",
   "execution_count": 37,
   "id": "e7e229e8-0e15-40cb-9fe7-2ee1fc799125",
   "metadata": {},
   "outputs": [
    {
     "data": {
      "text/plain": [
       "['models/nb/nb_bow_vectorizer.joblib']"
      ]
     },
     "execution_count": 37,
     "metadata": {},
     "output_type": "execute_result"
    }
   ],
   "source": [
    "import joblib\n",
    "\n",
    "# Model ve vektörleştiricileri kaydet\n",
    "joblib.dump(nb_model_tfidf, 'models/nb/nb_model_tfidf.joblib')\n",
    "joblib.dump(tfidf_vectorizer, 'models/nb/nb_tfidf_vectorizer.joblib')\n",
    "\n",
    "# Eğer Bag-of-Words modeli de kayıt edilecekse\n",
    "joblib.dump(nb_model_bow, 'models/nb/nb_model_bow.joblib')\n",
    "joblib.dump(bow_vectorizer, 'models/nb/nb_bow_vectorizer.joblib')\n"
   ]
  },
  {
   "cell_type": "code",
   "execution_count": 43,
   "id": "dd01e31c-b088-4b83-8c64-89597234ef26",
   "metadata": {},
   "outputs": [
    {
     "name": "stdout",
     "output_type": "stream",
     "text": [
      "Tahmin Sonucu: [0]\n"
     ]
    }
   ],
   "source": [
    "import joblib\n",
    "\n",
    "# Kayıtlı model ve vektörleştiricileri yükle\n",
    "loaded_nb_model = joblib.load('models/nb/nb_model_tfidf.joblib')\n",
    "loaded_tfidf_vectorizer = joblib.load('models/nb/nb_tfidf_vectorizer.joblib')\n",
    "\n",
    "# Yeni gelen bir yorum örneği\n",
    "new_review = \"this movie is suck\"\n",
    "\n",
    "# Ön işleme adımları\n",
    "processed_new_review = preprocess_text(new_review)  # preprocess_text fonksiyonunu tekrar kullanıyoruz\n",
    "\n",
    "# Veriyi vektörleştirme\n",
    "X_new = loaded_tfidf_vectorizer.transform([processed_new_review])\n",
    "\n",
    "# Tahmin\n",
    "prediction = loaded_nb_model.predict(X_new)\n",
    "print(\"Tahmin Sonucu:\", prediction)\n"
   ]
  },
  {
   "cell_type": "code",
   "execution_count": null,
   "id": "4a12ef29-2cba-46c6-8614-8b40a525825f",
   "metadata": {},
   "outputs": [],
   "source": []
  }
 ],
 "metadata": {
  "kernelspec": {
   "display_name": "Python 3 (ipykernel)",
   "language": "python",
   "name": "python3"
  },
  "language_info": {
   "codemirror_mode": {
    "name": "ipython",
    "version": 3
   },
   "file_extension": ".py",
   "mimetype": "text/x-python",
   "name": "python",
   "nbconvert_exporter": "python",
   "pygments_lexer": "ipython3",
   "version": "3.12.7"
  }
 },
 "nbformat": 4,
 "nbformat_minor": 5
}
