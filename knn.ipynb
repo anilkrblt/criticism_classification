{
 "cells": [
  {
   "cell_type": "code",
   "execution_count": 2,
   "id": "3db5eb8e-6338-4239-a6fe-ed0c4e531323",
   "metadata": {},
   "outputs": [
    {
     "name": "stderr",
     "output_type": "stream",
     "text": [
      "[nltk_data] Downloading package stopwords to\n",
      "[nltk_data]     C:\\Users\\ACER\\AppData\\Roaming\\nltk_data...\n",
      "[nltk_data]   Package stopwords is already up-to-date!\n",
      "[nltk_data] Downloading package wordnet to\n",
      "[nltk_data]     C:\\Users\\ACER\\AppData\\Roaming\\nltk_data...\n",
      "[nltk_data]   Package wordnet is already up-to-date!\n",
      "[nltk_data] Downloading package omw-1.4 to\n",
      "[nltk_data]     C:\\Users\\ACER\\AppData\\Roaming\\nltk_data...\n",
      "[nltk_data]   Package omw-1.4 is already up-to-date!\n",
      "[nltk_data] Downloading package stopwords to\n",
      "[nltk_data]     C:\\Users\\ACER\\AppData\\Roaming\\nltk_data...\n",
      "[nltk_data]   Package stopwords is already up-to-date!\n",
      "[nltk_data] Downloading package wordnet to\n",
      "[nltk_data]     C:\\Users\\ACER\\AppData\\Roaming\\nltk_data...\n",
      "[nltk_data]   Package wordnet is already up-to-date!\n",
      "[nltk_data] Downloading package omw-1.4 to\n",
      "[nltk_data]     C:\\Users\\ACER\\AppData\\Roaming\\nltk_data...\n",
      "[nltk_data]   Package omw-1.4 is already up-to-date!\n"
     ]
    },
    {
     "name": "stdout",
     "output_type": "stream",
     "text": [
      "Öznitelik Sayısı (BoW): 144577\n",
      "Öznitelik Sayısı (TF-IDF): 144577\n",
      "KNN with Bag-of-Words:\n",
      "              precision    recall  f1-score   support\n",
      "\n",
      "           0       0.71      0.74      0.73      4961\n",
      "           1       0.73      0.71      0.72      5039\n",
      "\n",
      "    accuracy                           0.72     10000\n",
      "   macro avg       0.72      0.72      0.72     10000\n",
      "weighted avg       0.72      0.72      0.72     10000\n",
      "\n",
      "KNN with TF-IDF:\n",
      "              precision    recall  f1-score   support\n",
      "\n",
      "           0       0.81      0.71      0.76      4961\n",
      "           1       0.74      0.84      0.79      5039\n",
      "\n",
      "    accuracy                           0.77     10000\n",
      "   macro avg       0.78      0.77      0.77     10000\n",
      "weighted avg       0.78      0.77      0.77     10000\n",
      "\n"
     ]
    }
   ],
   "source": [
    "import pandas as pd\n",
    "from sklearn.model_selection import train_test_split\n",
    "import string\n",
    "import re\n",
    "from nltk.corpus import stopwords\n",
    "from nltk.stem import PorterStemmer, WordNetLemmatizer\n",
    "from sklearn.feature_extraction.text import CountVectorizer, TfidfVectorizer\n",
    "from backend.preprocessing import preprocess_text\n",
    "import nltk\n",
    "nltk.download('stopwords')\n",
    "nltk.download('wordnet')\n",
    "nltk.download('omw-1.4')\n",
    "\n",
    "\n",
    "dataset = pd.read_csv('data.csv', delimiter=',', header=0, names=['review','sentiment'])\n",
    "\n",
    "# Metin ön işleme\n",
    "dataset['cleaned_review'] = dataset['review'].apply(preprocess_text)\n",
    "\n",
    "# Etiketleri sayısal forma dönüştürme\n",
    "dataset['label'] = dataset['sentiment'].map({'positive':1, 'negative':0})\n",
    "\n",
    "# Eğitim/Test ayrımı\n",
    "X = dataset['cleaned_review'].values\n",
    "y = dataset['label'].values\n",
    "\n",
    "X_train, X_test, y_train, y_test = train_test_split(X, y, test_size=0.2, random_state=42)\n",
    "\n",
    "\n",
    "# Bag-of-Words\n",
    "bow_vectorizer = CountVectorizer(ngram_range=(1, 1)) #ngram\n",
    "X_train_bow = bow_vectorizer.fit_transform(X_train)\n",
    "# Öznitelik sayısını öğrenme\n",
    "print(f\"Öznitelik Sayısı (BoW): {X_train_bow.shape[1]}\")\n",
    "X_test_bow = bow_vectorizer.transform(X_test)\n",
    "\n",
    "\n",
    "# TF-IDF\n",
    "tfidf_vectorizer = TfidfVectorizer(ngram_range=(1, 1)) #ngram\n",
    "X_train_tfidf = tfidf_vectorizer.fit_transform(X_train)\n",
    "# Öznitelik sayısını öğrenme\n",
    "print(f\"Öznitelik Sayısı (TF-IDF): {X_train_tfidf.shape[1]}\")\n",
    "X_test_tfidf = tfidf_vectorizer.transform(X_test)\n",
    "\n",
    "from sklearn.neighbors import KNeighborsClassifier\n",
    "from sklearn.metrics import classification_report\n",
    "\n",
    "# KNN Modeli\n",
    "knn_model_bow = KNeighborsClassifier(n_neighbors=5,metric=\"cosine\")\n",
    "knn_model_bow.fit(X_train_bow, y_train)\n",
    "\n",
    "# Tahmin yap\n",
    "y_pred_bow = knn_model_bow.predict(X_test_bow)\n",
    "\n",
    "# Sonuçları değerlendirme\n",
    "print(\"KNN with Bag-of-Words:\")\n",
    "print(classification_report(y_test, y_pred_bow))\n",
    "\n",
    "# KNN Modeli\n",
    "knn_model_tfidf = KNeighborsClassifier(n_neighbors=5,metric=\"cosine\")\n",
    "knn_model_tfidf.fit(X_train_tfidf, y_train)\n",
    "\n",
    "# Tahmin yap\n",
    "y_pred_tfidf = knn_model_tfidf.predict(X_test_tfidf)\n",
    "\n",
    "# Sonuçları değerlendirme\n",
    "print(\"KNN with TF-IDF:\")\n",
    "print(classification_report(y_test, y_pred_tfidf))\n",
    "\n",
    "\n"
   ]
  },
  {
   "cell_type": "code",
   "execution_count": 25,
   "id": "61830baa-d6c3-4952-b42a-f66758b0ae06",
   "metadata": {},
   "outputs": [
    {
     "data": {
      "text/plain": [
       "['models/knn/knn_bow_vectorizer.joblib']"
      ]
     },
     "execution_count": 25,
     "metadata": {},
     "output_type": "execute_result"
    }
   ],
   "source": [
    "import joblib\n",
    "\n",
    "# Model ve vektörleştiricileri kaydet\n",
    "joblib.dump(knn_model_tfidf, 'models/knn/knn_model_tfidf.joblib')\n",
    "joblib.dump(tfidf_vectorizer, 'models/knn/knn_tfidf_vectorizer.joblib')\n",
    "\n",
    "# Eğer Bag-of-Words modeli de kayıt edilecekse\n",
    "joblib.dump(knn_model_bow, 'models/knn/knn_model_bow.joblib')\n",
    "joblib.dump(bow_vectorizer, 'models/knn/knn_bow_vectorizer.joblib')\n"
   ]
  },
  {
   "cell_type": "code",
   "execution_count": 40,
   "id": "6d713115-94df-4e28-b611-42464e3ecaa4",
   "metadata": {},
   "outputs": [
    {
     "name": "stdout",
     "output_type": "stream",
     "text": [
      "Tahmin Sonucu: 0\n"
     ]
    }
   ],
   "source": [
    "# Kayıtlı model ve vektörleştiricileri yükle\n",
    "loaded_knn_model = joblib.load('models/knn/knn_model_tfidf.joblib')\n",
    "loaded_tfidf_vectorizer = joblib.load('models/knn/knn_tfidf_vectorizer.joblib')\n",
    "\n",
    "# Yeni gelen bir yorum örneği\n",
    "new_review = \"i disslike this movie\"\n",
    "\n",
    "# Ön işleme adımları\n",
    "processed_new_review = preprocess_text(new_review)  # preprocess_text fonksiyonunu tekrar kullanıyoruz\n",
    "\n",
    "# Veriyi vektörleştirme\n",
    "X_new = loaded_tfidf_vectorizer.transform([processed_new_review])\n",
    "\n",
    "# Tahmin\n",
    "prediction = loaded_knn_model.predict(X_new)\n",
    "print(\"Tahmin Sonucu:\", prediction[0]) \n"
   ]
  }
 ],
 "metadata": {
  "kernelspec": {
   "display_name": "Python 3 (ipykernel)",
   "language": "python",
   "name": "python3"
  },
  "language_info": {
   "codemirror_mode": {
    "name": "ipython",
    "version": 3
   },
   "file_extension": ".py",
   "mimetype": "text/x-python",
   "name": "python",
   "nbconvert_exporter": "python",
   "pygments_lexer": "ipython3",
   "version": "3.12.7"
  }
 },
 "nbformat": 4,
 "nbformat_minor": 5
}
